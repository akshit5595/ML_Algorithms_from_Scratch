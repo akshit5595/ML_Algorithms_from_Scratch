{
 "cells": [
  {
   "cell_type": "code",
   "execution_count": 1,
   "metadata": {
    "collapsed": true
   },
   "outputs": [],
   "source": [
    "import numpy as np\n"
   ]
  },
  {
   "cell_type": "code",
   "execution_count": 2,
   "metadata": {
    "collapsed": true
   },
   "outputs": [],
   "source": [
    "def fit(X_train,Y_train):\n",
    "    result={}\n",
    "    class_values=set(Y_train)\n",
    "    for current_class in class_values:\n",
    "        result[current_class]={} #dictionary corresponding to the current class that contains the features\n",
    "        current_class_rows=(Y_train==current_class)\n",
    "        X_train_current=X_train[current_class_rows]\n",
    "        Y_train_current=Y_train[current_class_rows]\n",
    "        result['total_count']=len(Y_train)\n",
    "        num_features=X_train.shape[1]\n",
    "        result[current_class]['total_count']=len(Y_train_current)\n",
    "        for j in range(1, num_features+1):\n",
    "            result[current_class][j]={} #this dictionary stores the count of all the different features in the column\n",
    "            all_possible_values=set(X_train[:,j-1])\n",
    "            # high/low in yesses<- store the count of high / low here\n",
    "            for current_value in all_possible_values:\n",
    "                result[current_class][j][current_value]=(X_train_current[:,j-1]==current_value).sum()\n",
    "        \n",
    "    return result"
   ]
  },
  {
   "cell_type": "code",
   "execution_count": 3,
   "metadata": {
    "collapsed": true
   },
   "outputs": [],
   "source": [
    "def probability(dictionary,x,current_class):\n",
    "    output=1.0\n",
    "    output*=np.log(dictionary[current_class]['total_count']) - np.log(dictionary['total_count'])\n",
    "    \n",
    "    num_features=len(dictionary[current_class].keys())-1 #or 1,len(x)+1, I think that is correct, though 90% due to laplace correction\n",
    "    for j in range(1,num_features+1):\n",
    "        count_current_class_with_value_xj=dictionary[current_class][j][x[j-1]]+1\n",
    "        count_current_class_in_dictionary=dictionary[current_class]['total_count'] + len(dictionary[current_class][j].keys())\n",
    "        output+=np.log(count_current_class_with_value_xj)- np.log(count_current_class_in_dictionary)\n",
    "    return output\n"
   ]
  },
  {
   "cell_type": "code",
   "execution_count": 4,
   "metadata": {},
   "outputs": [],
   "source": [
    "def predictSinglePoint(dictionary,x):\n",
    "    dictionary_classes=dictionary.keys()\n",
    "    product_set=[]\n",
    "    max_prob=-1000\n",
    "    prob_class=-1\n",
    "    first_run=True\n",
    "    for current_class in dictionary_classes:\n",
    "        if current_class=='total_count': continue\n",
    "        prob_current_class=probability(dictionary,x,current_class)\n",
    "        if(first_run or prob_current_class>max_prob):\n",
    "            max_prob=prob_current_class\n",
    "            prob_class=current_class\n",
    "            \n",
    "        first_run=False\n",
    "    return prob_class\n",
    "    "
   ]
  },
  {
   "cell_type": "code",
   "execution_count": 5,
   "metadata": {
    "collapsed": true
   },
   "outputs": [],
   "source": [
    "def predict(dictionary,X_test):\n",
    "    ypred=[]\n",
    "    for x in X_test:\n",
    "        x_class=predictSinglePoint(dictionary,x)\n",
    "        ypred.append(x_class)\n",
    "    \n",
    "    return ypred"
   ]
  },
  {
   "cell_type": "code",
   "execution_count": 6,
   "metadata": {
    "collapsed": true
   },
   "outputs": [],
   "source": [
    "def convert_column(column):\n",
    "    mid_value=column.mean()\n",
    "    first_value=(1/2.0)*mid_value\n",
    "    last_value=(1.5)*mid_value\n",
    "    for i in range(len(column)):\n",
    "        if(column[i]<=first_value):\n",
    "            column[i]=0\n",
    "        elif column[i]<=mid_value and column[i]>first_value:\n",
    "            column[i]=1\n",
    "        elif column[i]<=last_value and column[i]>mid_value:\n",
    "            column[i]=2\n",
    "        else:\n",
    "            column[i]=3\n",
    "    return\n"
   ]
  },
  {
   "cell_type": "code",
   "execution_count": 7,
   "metadata": {},
   "outputs": [],
   "source": [
    "from sklearn import datasets as ds\n",
    "data=ds.load_iris()\n",
    "X=data.data\n",
    "Y=data.target\n"
   ]
  },
  {
   "cell_type": "code",
   "execution_count": 8,
   "metadata": {},
   "outputs": [],
   "source": [
    "N=X.shape[1]\n",
    "for i in range(N):\n",
    "    convert_column(X[:,i])\n",
    "\n",
    "    "
   ]
  },
  {
   "cell_type": "code",
   "execution_count": 9,
   "metadata": {},
   "outputs": [],
   "source": [
    "from sklearn.model_selection import train_test_split as tts\n",
    "\n",
    "X_train,X_test,Y_train,Y_test=tts(X,Y,test_size=0.25,random_state=0)"
   ]
  },
  {
   "cell_type": "code",
   "execution_count": 10,
   "metadata": {},
   "outputs": [],
   "source": [
    "dictionary=fit(X_train,Y_train)"
   ]
  },
  {
   "cell_type": "code",
   "execution_count": 11,
   "metadata": {},
   "outputs": [],
   "source": [
    "ypred=predict(dictionary,X_test)"
   ]
  },
  {
   "cell_type": "code",
   "execution_count": 12,
   "metadata": {},
   "outputs": [
    {
     "name": "stdout",
     "output_type": "stream",
     "text": [
      "[[13  0  0]\n",
      " [ 0 16  0]\n",
      " [ 0  1  8]]\n",
      "             precision    recall  f1-score   support\n",
      "\n",
      "          0       1.00      1.00      1.00        13\n",
      "          1       0.94      1.00      0.97        16\n",
      "          2       1.00      0.89      0.94         9\n",
      "\n",
      "avg / total       0.98      0.97      0.97        38\n",
      "\n"
     ]
    }
   ],
   "source": [
    "from sklearn.metrics import confusion_matrix, classification_report\n",
    "\n",
    "print confusion_matrix(Y_test,ypred)\n",
    "print classification_report (Y_test,ypred)"
   ]
  },
  {
   "cell_type": "code",
   "execution_count": null,
   "metadata": {
    "collapsed": true
   },
   "outputs": [],
   "source": []
  }
 ],
 "metadata": {
  "kernelspec": {
   "display_name": "Python 2",
   "language": "python",
   "name": "python2"
  },
  "language_info": {
   "codemirror_mode": {
    "name": "ipython",
    "version": 2
   },
   "file_extension": ".py",
   "mimetype": "text/x-python",
   "name": "python",
   "nbconvert_exporter": "python",
   "pygments_lexer": "ipython2",
   "version": "2.7.14"
  }
 },
 "nbformat": 4,
 "nbformat_minor": 2
}
