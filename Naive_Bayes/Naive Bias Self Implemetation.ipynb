{
 "cells": [
  {
   "cell_type": "code",
   "execution_count": 1,
   "metadata": {
    "collapsed": true
   },
   "outputs": [],
   "source": [
    "import numpy as np\n"
   ]
  },
  {
   "cell_type": "code",
   "execution_count": 7,
   "metadata": {
    "collapsed": true
   },
   "outputs": [],
   "source": [
    "def fit(X_train,Y_train):\n",
    "    result={}\n",
    "    class_values=set(Y_train)\n",
    "    for current_class in class_values:\n",
    "        result[current_class]={} #dictionary corresponding to the current class that contains the features\n",
    "        current_class_rows=(Y_train==current_class)\n",
    "        X_train_current=X_train[current_class_rows]\n",
    "        Y_train_current=Y_train[current_class_rows]\n",
    "        result['total_count']=len(Y_train)\n",
    "        num_features=X_train.shape[1]\n",
    "        result[current_class]['total_count']=len(Y_train_current)\n",
    "        for j in range(1, num_features+1):\n",
    "            result[current_class][j-1]={} #this dictionary stores the count of all the different features in the column\n",
    "            all_possible_values=set(X_train[:,j-1])\n",
    "            # high/low in yesses<- store the count of high / low here\n",
    "            for current_value in all_possible_values:\n",
    "                result[current_class][j][current_value]=(X_train_current[:,j-1]==current_value).sum()\n",
    "        \n",
    "    return result"
   ]
  },
  {
   "cell_type": "code",
   "execution_count": 6,
   "metadata": {
    "collapsed": true
   },
   "outputs": [],
   "source": [
    "def probability(dictionary,x,current_class):\n",
    "    output=1.0\n",
    "    output*=dictionary[current_class]['total_count']/dictionary['total_count']\n",
    "    num_features=len(dictionary[current_class].keys())-1 #or 1,len(x)+1, I think that is correct, though 90% due to laplace correction\n",
    "    for j in range(1,num_features+1):\n",
    "        count_current_class_with_value_xj=dictionary[current_class][j][x[j-1]]+1\n",
    "        count_current_class_in_dictionary=dictionary[current_class]['total_count'] + len(dictionary[current_class][j].keys)\n",
    "        output*=count_current_class_with_value_xj/count_current_class_in_dictionary\n",
    "    return output\n"
   ]
  },
  {
   "cell_type": "code",
   "execution_count": 5,
   "metadata": {},
   "outputs": [],
   "source": [
    "def predictSinglePoint(dictionary,x):\n",
    "    dictionary_classes=dictionary.keys()\n",
    "    product_set=[]\n",
    "    max_prob=-1000\n",
    "    prob_class=-1\n",
    "    first_run=True\n",
    "    for current_class in dictionary_classes:\n",
    "        if current_class='total_count': continue\n",
    "        prob_current_class=probability(dictionary,x,current_class)\n",
    "        if(first_run or prob_current_class>max_prob):\n",
    "            max_prob=prob_current_class\n",
    "            prob_class=current_class\n",
    "            \n",
    "        first_run=False\n",
    "    return prob_class\n",
    "    "
   ]
  },
  {
   "cell_type": "code",
   "execution_count": null,
   "metadata": {
    "collapsed": true
   },
   "outputs": [],
   "source": [
    "def predict(dictionary,X_test):\n",
    "    ypred=[]\n",
    "    for x in X_test:\n",
    "        x_class=predictSinglePoint(dictionary,x)\n",
    "        ypred.append(x_class)\n",
    "    \n",
    "    return ypred"
   ]
  }
 ],
 "metadata": {
  "kernelspec": {
   "display_name": "Python 2",
   "language": "python",
   "name": "python2"
  },
  "language_info": {
   "codemirror_mode": {
    "name": "ipython",
    "version": 2
   },
   "file_extension": ".py",
   "mimetype": "text/x-python",
   "name": "python",
   "nbconvert_exporter": "python",
   "pygments_lexer": "ipython2",
   "version": "2.7.14"
  }
 },
 "nbformat": 4,
 "nbformat_minor": 2
}
