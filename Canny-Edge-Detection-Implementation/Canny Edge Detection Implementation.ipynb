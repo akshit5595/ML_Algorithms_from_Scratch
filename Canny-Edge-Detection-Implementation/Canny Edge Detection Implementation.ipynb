{
 "cells": [
  {
   "cell_type": "code",
   "execution_count": 1,
   "metadata": {
    "collapsed": true
   },
   "outputs": [],
   "source": [
    "def myCanny(gradient): # old function, this is noisy yet faster\n",
    "    \n",
    "    \n",
    "    mat=np.zeros((3,3))\n",
    "\n",
    "    m,n=gradient.shape # gives the shape, so that I can know till where to traverse the image horizontally and vertically\n",
    "    newImage=gradient.copy()# creates a deep copy\n",
    "    for i in range(1,m-1): \n",
    "        for j in range(1,n-1):\n",
    "            #             mat=gradient[i-1:i+1,j-1:j+1].copy() # 3*3\n",
    "            t=0\n",
    "            u=0\n",
    "            for x in range(i-1,i+2):\n",
    "                u=0\n",
    "                for y in range(j-1,j+2):\n",
    "                    mat[t][u]=gradient[x][y]\n",
    "                    u+=1\n",
    "                t+=1\n",
    "            if(gradient[i][j]<=.3 and gradient[i][j]>=-.3):\n",
    "                if(mat[1][0]<=0 and  mat[1][2]>0) or (mat[1][0]>=0 and mat[1][2]<0) :\n",
    "                    newImage[i][j]=100\n",
    "                else:\n",
    "                    newImage[i][j]=0\n",
    "            elif((gradient[i][j]>=.3 and gradient[i][j]<=2) or (gradient[i][j]<=-.3 and gradient[i][j]>=-2)):\n",
    "                if(mat[2][2]<=0 and mat[0][0]>0) or (mat[0][0]<=0 and mat[2][2]>0) :\n",
    "                    newImage[i][j]=100\n",
    "                else:\n",
    "                    newImage[i][j]=0\n",
    "            else:\n",
    "                if(mat[0][1]<=0 and mat[2][1]>0) or (mat[0][1]<0 and mat[2][1]>=0) :\n",
    "                    newImage[i][j]=100\n",
    "                else:\n",
    "                    newImage[i][j]=0\n",
    "    return newImage"
   ]
  },
  {
   "cell_type": "code",
   "execution_count": 2,
   "metadata": {
    "collapsed": true
   },
   "outputs": [],
   "source": [
    "def myCanny_hysteresis(gradient):\n",
    "    mat=np.zeros((3,3))\n",
    "    # adding hysteresis thresholding\n",
    "    minVal=0.5\n",
    "    maxVal=0\n",
    "    m,n=gradient.shape # gives the shape, so that I can know till where to traverse the image horizontally and vertically\n",
    "    newImage=gradient.copy()# creates a deep copy\n",
    "    for i in range(1,m-1): \n",
    "        for j in range(1,n-1):\n",
    "            #             mat=gradient[i-1:i+1,j-1:j+1].copy() # 3*3\n",
    "            t=0\n",
    "            u=0\n",
    "            for x in range(i-1,i+2):\n",
    "                u=0\n",
    "                for y in range(j-1,j+2):\n",
    "                    mat[t][u]=gradient[x][y]\n",
    "                    u+=1\n",
    "                t+=1\n",
    "            if(gradient[i][j]<=.3 and gradient[i][j]>=-.3):\n",
    "                if((mat[1][0]<=0 and  mat[1][2]>0) or (mat[1][0]>=0 and mat[1][2]<0)) and gradient[i][j]>=minVal :\n",
    "                    newImage[i][j]=100\n",
    "                else:\n",
    "                    newImage[i][j]=0\n",
    "            elif((gradient[i][j]>=.3 and gradient[i][j]<=2) or (gradient[i][j]<=-.3 and gradient[i][j]>=-2)):\n",
    "                if((mat[2][2]<=0 and mat[0][0]>0) or (mat[0][0]<=0 and mat[2][2]>0)) and gradient[i][j]>=minVal :\n",
    "                    newImage[i][j]=100\n",
    "                else:\n",
    "                    newImage[i][j]=0\n",
    "            else:\n",
    "                if((mat[0][1]<=0 and mat[2][1]>0) or (mat[0][1]<0 and mat[2][1]>=0) ) and gradient[i][j]>=minVal :\n",
    "                    newImage[i][j]=100\n",
    "                else:\n",
    "                    newImage[i][j]=0\n",
    "    return newImage"
   ]
  },
  {
   "cell_type": "code",
   "execution_count": 3,
   "metadata": {},
   "outputs": [
    {
     "name": "stderr",
     "output_type": "stream",
     "text": [
      "C:\\Users\\80LM0141IH\\Anaconda3\\lib\\site-packages\\ipykernel_launcher.py:14: RuntimeWarning: divide by zero encountered in true_divide\n",
      "  \n",
      "C:\\Users\\80LM0141IH\\Anaconda3\\lib\\site-packages\\ipykernel_launcher.py:14: RuntimeWarning: invalid value encountered in true_divide\n",
      "  \n"
     ]
    }
   ],
   "source": [
    "# edge detector coded by hand\n",
    "import cv2\n",
    "import numpy as np\n",
    "frame=cv2.imread('flower4.jpg',0)# some image.jpg or png\n",
    "frame=cv2.GaussianBlur(frame,(7,7),0)\n",
    "# cv2.threshold(frame,100,255,cv2.THRESH_BINARY_INV,dst=frame)\n",
    "\n",
    "sobelX=cv2.Sobel(frame,cv2.CV_16U,1,0,ksize=7)\n",
    "# print(sobelX)\n",
    "sobelY=cv2.Sobel(frame,cv2.CV_16U,0,1,ksize=7)\n",
    "\n",
    "# now we have to have numpy operations\n",
    "# lets have the code for gradients\n",
    "sobelGradient=np.absolute(np.arctan(sobelY/sobelX))\n",
    "sobelGradient=np.nan_to_num(sobelGradient,copy=False)\n",
    "# sobelNet=np.sqrt(np.square(sobelX)+ np.square(sobelY))\n",
    "\n",
    "newImage=myCanny_hysteresis(sobelGradient)\n",
    "\n",
    "# cv2.threshold(sobelNet,0,1,cv2.THRESH_BINARY,dst=sobelNet)\n",
    "# kernel = np.ones((5,5), np.uint8)           # not deleting these as a part of future reference\n",
    "# sobelNet = cv2.erode(sobelNet, kernel, iterations=1)\n",
    "cv2.imshow('sobelEdgeDetector',frame)\n",
    "cv2.waitKey(0)\n",
    "cv2.destroyAllWindows()"
   ]
  }
 ],
 "metadata": {
  "kernelspec": {
   "display_name": "Python 3",
   "language": "python",
   "name": "python3"
  },
  "language_info": {
   "codemirror_mode": {
    "name": "ipython",
    "version": 3
   },
   "file_extension": ".py",
   "mimetype": "text/x-python",
   "name": "python",
   "nbconvert_exporter": "python",
   "pygments_lexer": "ipython3",
   "version": "3.6.3"
  }
 },
 "nbformat": 4,
 "nbformat_minor": 2
}
